{
  "nbformat": 4,
  "nbformat_minor": 0,
  "metadata": {
    "colab": {
      "provenance": []
    },
    "kernelspec": {
      "name": "python3",
      "display_name": "Python 3"
    },
    "language_info": {
      "name": "python"
    },
    "gpuClass": "standard",
    "widgets": {
      "application/vnd.jupyter.widget-state+json": {
        "e14e1dc9a77446f7a90b2856b154b710": {
          "model_module": "@jupyter-widgets/controls",
          "model_name": "HBoxModel",
          "model_module_version": "1.5.0",
          "state": {
            "_dom_classes": [],
            "_model_module": "@jupyter-widgets/controls",
            "_model_module_version": "1.5.0",
            "_model_name": "HBoxModel",
            "_view_count": null,
            "_view_module": "@jupyter-widgets/controls",
            "_view_module_version": "1.5.0",
            "_view_name": "HBoxView",
            "box_style": "",
            "children": [
              "IPY_MODEL_e5cef60d911b4da88743f1d674f61dd5",
              "IPY_MODEL_bafb7de754134a74a8c6c23a73aa0b88",
              "IPY_MODEL_9a48c226187148688e135715accf98f5"
            ],
            "layout": "IPY_MODEL_4fd3856f7a354a2aba9f75b8cd87e7e4"
          }
        },
        "e5cef60d911b4da88743f1d674f61dd5": {
          "model_module": "@jupyter-widgets/controls",
          "model_name": "HTMLModel",
          "model_module_version": "1.5.0",
          "state": {
            "_dom_classes": [],
            "_model_module": "@jupyter-widgets/controls",
            "_model_module_version": "1.5.0",
            "_model_name": "HTMLModel",
            "_view_count": null,
            "_view_module": "@jupyter-widgets/controls",
            "_view_module_version": "1.5.0",
            "_view_name": "HTMLView",
            "description": "",
            "description_tooltip": null,
            "layout": "IPY_MODEL_87e2c00d2b8045f58771f128ae00e529",
            "placeholder": "​",
            "style": "IPY_MODEL_8eb5e33032a14e56949b72ee968e1b14",
            "value": "100%"
          }
        },
        "bafb7de754134a74a8c6c23a73aa0b88": {
          "model_module": "@jupyter-widgets/controls",
          "model_name": "FloatProgressModel",
          "model_module_version": "1.5.0",
          "state": {
            "_dom_classes": [],
            "_model_module": "@jupyter-widgets/controls",
            "_model_module_version": "1.5.0",
            "_model_name": "FloatProgressModel",
            "_view_count": null,
            "_view_module": "@jupyter-widgets/controls",
            "_view_module_version": "1.5.0",
            "_view_name": "ProgressView",
            "bar_style": "success",
            "description": "",
            "description_tooltip": null,
            "layout": "IPY_MODEL_127aa64402f749879541722f7b16795b",
            "max": 30000,
            "min": 0,
            "orientation": "horizontal",
            "style": "IPY_MODEL_89328314eb624fc7a612cf10b5989dd0",
            "value": 30000
          }
        },
        "9a48c226187148688e135715accf98f5": {
          "model_module": "@jupyter-widgets/controls",
          "model_name": "HTMLModel",
          "model_module_version": "1.5.0",
          "state": {
            "_dom_classes": [],
            "_model_module": "@jupyter-widgets/controls",
            "_model_module_version": "1.5.0",
            "_model_name": "HTMLModel",
            "_view_count": null,
            "_view_module": "@jupyter-widgets/controls",
            "_view_module_version": "1.5.0",
            "_view_name": "HTMLView",
            "description": "",
            "description_tooltip": null,
            "layout": "IPY_MODEL_6df9a3cfd2454ebca8f2febffe209534",
            "placeholder": "​",
            "style": "IPY_MODEL_88ad8600d9084e289fbcee36578226e9",
            "value": " 30000/30000 [01:06&lt;00:00, 517.35it/s]"
          }
        },
        "4fd3856f7a354a2aba9f75b8cd87e7e4": {
          "model_module": "@jupyter-widgets/base",
          "model_name": "LayoutModel",
          "model_module_version": "1.2.0",
          "state": {
            "_model_module": "@jupyter-widgets/base",
            "_model_module_version": "1.2.0",
            "_model_name": "LayoutModel",
            "_view_count": null,
            "_view_module": "@jupyter-widgets/base",
            "_view_module_version": "1.2.0",
            "_view_name": "LayoutView",
            "align_content": null,
            "align_items": null,
            "align_self": null,
            "border": null,
            "bottom": null,
            "display": null,
            "flex": null,
            "flex_flow": null,
            "grid_area": null,
            "grid_auto_columns": null,
            "grid_auto_flow": null,
            "grid_auto_rows": null,
            "grid_column": null,
            "grid_gap": null,
            "grid_row": null,
            "grid_template_areas": null,
            "grid_template_columns": null,
            "grid_template_rows": null,
            "height": null,
            "justify_content": null,
            "justify_items": null,
            "left": null,
            "margin": null,
            "max_height": null,
            "max_width": null,
            "min_height": null,
            "min_width": null,
            "object_fit": null,
            "object_position": null,
            "order": null,
            "overflow": null,
            "overflow_x": null,
            "overflow_y": null,
            "padding": null,
            "right": null,
            "top": null,
            "visibility": null,
            "width": null
          }
        },
        "87e2c00d2b8045f58771f128ae00e529": {
          "model_module": "@jupyter-widgets/base",
          "model_name": "LayoutModel",
          "model_module_version": "1.2.0",
          "state": {
            "_model_module": "@jupyter-widgets/base",
            "_model_module_version": "1.2.0",
            "_model_name": "LayoutModel",
            "_view_count": null,
            "_view_module": "@jupyter-widgets/base",
            "_view_module_version": "1.2.0",
            "_view_name": "LayoutView",
            "align_content": null,
            "align_items": null,
            "align_self": null,
            "border": null,
            "bottom": null,
            "display": null,
            "flex": null,
            "flex_flow": null,
            "grid_area": null,
            "grid_auto_columns": null,
            "grid_auto_flow": null,
            "grid_auto_rows": null,
            "grid_column": null,
            "grid_gap": null,
            "grid_row": null,
            "grid_template_areas": null,
            "grid_template_columns": null,
            "grid_template_rows": null,
            "height": null,
            "justify_content": null,
            "justify_items": null,
            "left": null,
            "margin": null,
            "max_height": null,
            "max_width": null,
            "min_height": null,
            "min_width": null,
            "object_fit": null,
            "object_position": null,
            "order": null,
            "overflow": null,
            "overflow_x": null,
            "overflow_y": null,
            "padding": null,
            "right": null,
            "top": null,
            "visibility": null,
            "width": null
          }
        },
        "8eb5e33032a14e56949b72ee968e1b14": {
          "model_module": "@jupyter-widgets/controls",
          "model_name": "DescriptionStyleModel",
          "model_module_version": "1.5.0",
          "state": {
            "_model_module": "@jupyter-widgets/controls",
            "_model_module_version": "1.5.0",
            "_model_name": "DescriptionStyleModel",
            "_view_count": null,
            "_view_module": "@jupyter-widgets/base",
            "_view_module_version": "1.2.0",
            "_view_name": "StyleView",
            "description_width": ""
          }
        },
        "127aa64402f749879541722f7b16795b": {
          "model_module": "@jupyter-widgets/base",
          "model_name": "LayoutModel",
          "model_module_version": "1.2.0",
          "state": {
            "_model_module": "@jupyter-widgets/base",
            "_model_module_version": "1.2.0",
            "_model_name": "LayoutModel",
            "_view_count": null,
            "_view_module": "@jupyter-widgets/base",
            "_view_module_version": "1.2.0",
            "_view_name": "LayoutView",
            "align_content": null,
            "align_items": null,
            "align_self": null,
            "border": null,
            "bottom": null,
            "display": null,
            "flex": null,
            "flex_flow": null,
            "grid_area": null,
            "grid_auto_columns": null,
            "grid_auto_flow": null,
            "grid_auto_rows": null,
            "grid_column": null,
            "grid_gap": null,
            "grid_row": null,
            "grid_template_areas": null,
            "grid_template_columns": null,
            "grid_template_rows": null,
            "height": null,
            "justify_content": null,
            "justify_items": null,
            "left": null,
            "margin": null,
            "max_height": null,
            "max_width": null,
            "min_height": null,
            "min_width": null,
            "object_fit": null,
            "object_position": null,
            "order": null,
            "overflow": null,
            "overflow_x": null,
            "overflow_y": null,
            "padding": null,
            "right": null,
            "top": null,
            "visibility": null,
            "width": null
          }
        },
        "89328314eb624fc7a612cf10b5989dd0": {
          "model_module": "@jupyter-widgets/controls",
          "model_name": "ProgressStyleModel",
          "model_module_version": "1.5.0",
          "state": {
            "_model_module": "@jupyter-widgets/controls",
            "_model_module_version": "1.5.0",
            "_model_name": "ProgressStyleModel",
            "_view_count": null,
            "_view_module": "@jupyter-widgets/base",
            "_view_module_version": "1.2.0",
            "_view_name": "StyleView",
            "bar_color": null,
            "description_width": ""
          }
        },
        "6df9a3cfd2454ebca8f2febffe209534": {
          "model_module": "@jupyter-widgets/base",
          "model_name": "LayoutModel",
          "model_module_version": "1.2.0",
          "state": {
            "_model_module": "@jupyter-widgets/base",
            "_model_module_version": "1.2.0",
            "_model_name": "LayoutModel",
            "_view_count": null,
            "_view_module": "@jupyter-widgets/base",
            "_view_module_version": "1.2.0",
            "_view_name": "LayoutView",
            "align_content": null,
            "align_items": null,
            "align_self": null,
            "border": null,
            "bottom": null,
            "display": null,
            "flex": null,
            "flex_flow": null,
            "grid_area": null,
            "grid_auto_columns": null,
            "grid_auto_flow": null,
            "grid_auto_rows": null,
            "grid_column": null,
            "grid_gap": null,
            "grid_row": null,
            "grid_template_areas": null,
            "grid_template_columns": null,
            "grid_template_rows": null,
            "height": null,
            "justify_content": null,
            "justify_items": null,
            "left": null,
            "margin": null,
            "max_height": null,
            "max_width": null,
            "min_height": null,
            "min_width": null,
            "object_fit": null,
            "object_position": null,
            "order": null,
            "overflow": null,
            "overflow_x": null,
            "overflow_y": null,
            "padding": null,
            "right": null,
            "top": null,
            "visibility": null,
            "width": null
          }
        },
        "88ad8600d9084e289fbcee36578226e9": {
          "model_module": "@jupyter-widgets/controls",
          "model_name": "DescriptionStyleModel",
          "model_module_version": "1.5.0",
          "state": {
            "_model_module": "@jupyter-widgets/controls",
            "_model_module_version": "1.5.0",
            "_model_name": "DescriptionStyleModel",
            "_view_count": null,
            "_view_module": "@jupyter-widgets/base",
            "_view_module_version": "1.2.0",
            "_view_name": "StyleView",
            "description_width": ""
          }
        }
      }
    }
  },
  "cells": [
    {
      "cell_type": "code",
      "execution_count": null,
      "metadata": {
        "id": "TKIyURCEc9Yr"
      },
      "outputs": [],
      "source": [
        "%%capture\n",
        "!pip install pytorch-fid"
      ]
    },
    {
      "cell_type": "code",
      "source": [
        "%%capture\n",
        "!pip install datasets"
      ],
      "metadata": {
        "id": "VX053W0oO3FM"
      },
      "execution_count": null,
      "outputs": []
    },
    {
      "cell_type": "code",
      "source": [
        "import os\n",
        "import math\n",
        "import glob\n",
        "import zipfile\n",
        "import random\n",
        "import torch\n",
        "import torchvision\n",
        "import numpy as np\n",
        "import matplotlib.pyplot as plt\n",
        "\n",
        "from os import path\n",
        "from PIL import Image\n",
        "from tqdm.auto import tqdm\n",
        "from pathlib import Path\n",
        "from numpy.random import seed\n",
        "from google.colab import drive\n",
        "from datasets import load_dataset\n",
        "from torchvision import transforms\n",
        "from torchvision.datasets import ImageFolder\n",
        "from torchvision.io import read_image"
      ],
      "metadata": {
        "id": "C9Kyqnopg29h"
      },
      "execution_count": null,
      "outputs": []
    },
    {
      "cell_type": "code",
      "source": [
        "random_seed = 42\n",
        "\n",
        "seed(random_seed)\n",
        "random.seed(random_seed)"
      ],
      "metadata": {
        "id": "FdWHys06hNiB"
      },
      "execution_count": null,
      "outputs": []
    },
    {
      "cell_type": "code",
      "source": [
        "%%capture\n",
        "drive.mount('/content/gdrive', force_remount=True)\n",
        "with zipfile.ZipFile(\"/content/gdrive/MyDrive/Progetto_AML/CelebA-HQ-256.zip\",\"r\") as zip_ref:\n",
        "    zip_ref.extractall()"
      ],
      "metadata": {
        "id": "mwsMcqowhRC5"
      },
      "execution_count": null,
      "outputs": []
    },
    {
      "cell_type": "code",
      "source": [
        "if path.exists('/content/celeba_hq_128/') == False:\n",
        "  os.mkdir('/content/celeba_hq_128/')"
      ],
      "metadata": {
        "id": "yA9opBNusf4T"
      },
      "execution_count": null,
      "outputs": []
    },
    {
      "cell_type": "code",
      "source": [
        "base_dir_256 = \"/content/celeba_hq_256/\"\n",
        "base_dir_128 = \"/content/celeba_hq_128/\"\n",
        "\n",
        "for i in tqdm(range(30000)):\n",
        "  name = \"\"\n",
        "  if len(str(i)) == 1:\n",
        "    name = \"0000\" + str(i) + \".jpg\"\n",
        "  elif len(str(i)) == 2:\n",
        "    name = \"000\" + str(i) + \".jpg\"\n",
        "  elif len(str(i)) == 3:\n",
        "    name = \"00\" + str(i) + \".jpg\"\n",
        "  elif len(str(i)) == 4:\n",
        "    name = \"0\" + str(i) + \".jpg\"\n",
        "  else:\n",
        "    name = str(i) + \".jpg\"\n",
        "\n",
        "  img_path = base_dir_256 + name\n",
        "  img = read_image(img_path)\n",
        "  img = transforms.ToPILImage()(img)\n",
        "  img = transforms.Resize((128, 128))(img)\n",
        "  output_path = base_dir_128 + name\n",
        "  img.save(output_path)"
      ],
      "metadata": {
        "colab": {
          "base_uri": "https://localhost:8080/",
          "height": 49,
          "referenced_widgets": [
            "e14e1dc9a77446f7a90b2856b154b710",
            "e5cef60d911b4da88743f1d674f61dd5",
            "bafb7de754134a74a8c6c23a73aa0b88",
            "9a48c226187148688e135715accf98f5",
            "4fd3856f7a354a2aba9f75b8cd87e7e4",
            "87e2c00d2b8045f58771f128ae00e529",
            "8eb5e33032a14e56949b72ee968e1b14",
            "127aa64402f749879541722f7b16795b",
            "89328314eb624fc7a612cf10b5989dd0",
            "6df9a3cfd2454ebca8f2febffe209534",
            "88ad8600d9084e289fbcee36578226e9"
          ]
        },
        "id": "_Rg6Pd1Ga1k-",
        "outputId": "343e438f-bad3-434d-e12c-c9318ac084b1"
      },
      "execution_count": null,
      "outputs": [
        {
          "output_type": "display_data",
          "data": {
            "text/plain": [
              "  0%|          | 0/30000 [00:00<?, ?it/s]"
            ],
            "application/vnd.jupyter.widget-view+json": {
              "version_major": 2,
              "version_minor": 0,
              "model_id": "e14e1dc9a77446f7a90b2856b154b710"
            }
          },
          "metadata": {}
        }
      ]
    },
    {
      "cell_type": "code",
      "source": [
        "with zipfile.ZipFile(\"/content/gdrive/MyDrive/Progetto_AML/Datasets/ddpm_linear_train_results.zip\",\"r\") as zip_ref:\n",
        "    zip_ref.extractall()"
      ],
      "metadata": {
        "id": "GFX1gZU2Le3S"
      },
      "execution_count": null,
      "outputs": []
    },
    {
      "cell_type": "code",
      "source": [
        "with zipfile.ZipFile(\"/content/gdrive/MyDrive/Progetto_AML/Datasets/ddpm_cosine_train_results.zip\",\"r\") as zip_ref:\n",
        "    zip_ref.extractall()"
      ],
      "metadata": {
        "id": "qG1Xk9oqLemz"
      },
      "execution_count": null,
      "outputs": []
    },
    {
      "cell_type": "code",
      "source": [
        "with zipfile.ZipFile(\"/content/gdrive/MyDrive/Progetto_AML/Datasets/ddim_linear_train_results.zip\",\"r\") as zip_ref:\n",
        "    zip_ref.extractall()"
      ],
      "metadata": {
        "id": "gM1FatA3LekE"
      },
      "execution_count": null,
      "outputs": []
    },
    {
      "cell_type": "code",
      "source": [
        "with zipfile.ZipFile(\"/content/gdrive/MyDrive/Progetto_AML/Datasets/ddim_cosine_train_results.zip\",\"r\") as zip_ref:\n",
        "    zip_ref.extractall()"
      ],
      "metadata": {
        "id": "pUEhG3BXLeg9"
      },
      "execution_count": null,
      "outputs": []
    },
    {
      "cell_type": "code",
      "source": [
        "with zipfile.ZipFile(\"/content/gdrive/MyDrive/Progetto_AML/Datasets/ddpm_1000_inference_results.zip\",\"r\") as zip_ref:\n",
        "    zip_ref.extractall()"
      ],
      "metadata": {
        "id": "pyhP_Za6dDMA"
      },
      "execution_count": null,
      "outputs": []
    },
    {
      "cell_type": "code",
      "source": [
        "with zipfile.ZipFile(\"/content/gdrive/MyDrive/Progetto_AML/Datasets/ddpm_50_inference_results.zip\",\"r\") as zip_ref:\n",
        "    zip_ref.extractall()"
      ],
      "metadata": {
        "id": "H275OkZuLW26"
      },
      "execution_count": null,
      "outputs": []
    },
    {
      "cell_type": "code",
      "source": [
        "with zipfile.ZipFile(\"/content/gdrive/MyDrive/Progetto_AML/Datasets/ddim_1000_inference_results.zip\",\"r\") as zip_ref:\n",
        "    zip_ref.extractall()"
      ],
      "metadata": {
        "id": "So-iTrC7LZF7"
      },
      "execution_count": null,
      "outputs": []
    },
    {
      "cell_type": "code",
      "source": [
        "with zipfile.ZipFile(\"/content/gdrive/MyDrive/Progetto_AML/Datasets/ddim_50_inference_results.zip\",\"r\") as zip_ref:\n",
        "    zip_ref.extractall()"
      ],
      "metadata": {
        "id": "KiXsTLzmhh9h"
      },
      "execution_count": null,
      "outputs": []
    },
    {
      "cell_type": "code",
      "source": [],
      "metadata": {
        "id": "kUmB3N6Wwxzl"
      },
      "execution_count": null,
      "outputs": []
    },
    {
      "cell_type": "code",
      "source": [
        "!python -m pytorch_fid \"/content/celeba_hq_128\" \"/content/ddpm_linear_train_results\" --dims 64"
      ],
      "metadata": {
        "colab": {
          "base_uri": "https://localhost:8080/"
        },
        "id": "GrFxodCdwxmd",
        "outputId": "0936249d-a19d-44e4-f109-6b3397d81c59"
      },
      "execution_count": null,
      "outputs": [
        {
          "output_type": "stream",
          "name": "stdout",
          "text": [
            "Downloading: \"https://github.com/mseitzer/pytorch-fid/releases/download/fid_weights/pt_inception-2015-12-05-6726825d.pth\" to /root/.cache/torch/hub/checkpoints/pt_inception-2015-12-05-6726825d.pth\n",
            "100% 91.2M/91.2M [00:18<00:00, 5.06MB/s]\n",
            "100% 600/600 [00:35<00:00, 16.78it/s]\n",
            "100% 2/2 [00:00<00:00,  8.16it/s]\n",
            "FID:  5.450412960846895\n"
          ]
        }
      ]
    },
    {
      "cell_type": "code",
      "source": [
        "!python -m pytorch_fid \"/content/celeba_hq_128\" \"/content/ddpm_linear_train_results\" --dims 192"
      ],
      "metadata": {
        "colab": {
          "base_uri": "https://localhost:8080/"
        },
        "id": "-w8jSPUOwxfE",
        "outputId": "52a88171-bd1e-4ea7-911c-0417470ce6ba"
      },
      "execution_count": null,
      "outputs": [
        {
          "output_type": "stream",
          "name": "stdout",
          "text": [
            "100% 600/600 [00:40<00:00, 14.81it/s]\n",
            "100% 2/2 [00:00<00:00,  4.86it/s]\n",
            "FID:  23.953453389446793\n"
          ]
        }
      ]
    },
    {
      "cell_type": "code",
      "source": [
        "!python -m pytorch_fid \"/content/celeba_hq_128\" \"/content/ddpm_linear_train_results\" --dims 768"
      ],
      "metadata": {
        "colab": {
          "base_uri": "https://localhost:8080/"
        },
        "id": "Fm6TOsowwxX0",
        "outputId": "e6874708-fedc-4c1d-e86e-c77aa8d6dbea"
      },
      "execution_count": null,
      "outputs": [
        {
          "output_type": "stream",
          "name": "stdout",
          "text": [
            "100% 600/600 [01:45<00:00,  5.68it/s]\n",
            "100% 2/2 [00:00<00:00,  3.68it/s]\n",
            "FID:  0.7221524391415178\n"
          ]
        }
      ]
    },
    {
      "cell_type": "code",
      "source": [
        "!python -m pytorch_fid \"/content/celeba_hq_128\" \"/content/ddpm_linear_train_results\" --dims 2048"
      ],
      "metadata": {
        "colab": {
          "base_uri": "https://localhost:8080/"
        },
        "id": "PAl6RGwWdDPB",
        "outputId": "1cfd525b-aa3c-4fae-cf98-78a97bab5a57"
      },
      "execution_count": null,
      "outputs": [
        {
          "output_type": "stream",
          "name": "stdout",
          "text": [
            "100% 600/600 [02:02<00:00,  4.88it/s]\n",
            "100% 2/2 [00:00<00:00,  3.17it/s]\n",
            "FID:  99.80235352185886\n"
          ]
        }
      ]
    },
    {
      "cell_type": "code",
      "source": [],
      "metadata": {
        "id": "OX4Lsxoz4qkX"
      },
      "execution_count": null,
      "outputs": []
    },
    {
      "cell_type": "code",
      "source": [
        "!python -m pytorch_fid \"/content/celeba_hq_128\" \"/content/ddpm_cosine_train_results\" --dims 64"
      ],
      "metadata": {
        "id": "iL7X5BVHv0fE",
        "colab": {
          "base_uri": "https://localhost:8080/"
        },
        "outputId": "3eb5e117-41bd-4b23-a746-ac4c5a1f918e"
      },
      "execution_count": null,
      "outputs": [
        {
          "output_type": "stream",
          "name": "stdout",
          "text": [
            "Downloading: \"https://github.com/mseitzer/pytorch-fid/releases/download/fid_weights/pt_inception-2015-12-05-6726825d.pth\" to /root/.cache/torch/hub/checkpoints/pt_inception-2015-12-05-6726825d.pth\n",
            "100% 91.2M/91.2M [00:00<00:00, 310MB/s]\n",
            "100% 600/600 [00:37<00:00, 16.21it/s]\n",
            "100% 2/2 [00:00<00:00,  7.92it/s]\n",
            "FID:  8.79724521796036\n"
          ]
        }
      ]
    },
    {
      "cell_type": "code",
      "source": [
        "!python -m pytorch_fid \"/content/celeba_hq_128\" \"/content/ddpm_cosine_train_results\" --dims 192"
      ],
      "metadata": {
        "id": "FhYSH8-Kv0MU",
        "colab": {
          "base_uri": "https://localhost:8080/"
        },
        "outputId": "9b32b7e6-7868-4209-c498-5cfcb27bb062"
      },
      "execution_count": null,
      "outputs": [
        {
          "output_type": "stream",
          "name": "stdout",
          "text": [
            "100% 600/600 [00:41<00:00, 14.30it/s]\n",
            "100% 2/2 [00:00<00:00,  4.69it/s]\n",
            "FID:  38.941684290040165\n"
          ]
        }
      ]
    },
    {
      "cell_type": "code",
      "source": [
        "!python -m pytorch_fid \"/content/celeba_hq_128\" \"/content/ddpm_cosine_train_results\" --dims 768"
      ],
      "metadata": {
        "id": "Pttu8rZ4v47b",
        "colab": {
          "base_uri": "https://localhost:8080/"
        },
        "outputId": "d2135d4f-ee21-4ccd-c685-b0c9b32ed2b6"
      },
      "execution_count": null,
      "outputs": [
        {
          "output_type": "stream",
          "name": "stdout",
          "text": [
            "100% 600/600 [01:49<00:00,  5.49it/s]\n",
            "100% 2/2 [00:00<00:00,  3.80it/s]\n",
            "FID:  0.8459353179802261\n"
          ]
        }
      ]
    },
    {
      "cell_type": "code",
      "source": [
        "!python -m pytorch_fid \"/content/celeba_hq_128\" \"/content/ddpm_cosine_train_results\" --dims 2048"
      ],
      "metadata": {
        "id": "BdlYTKVzL5jb",
        "colab": {
          "base_uri": "https://localhost:8080/"
        },
        "outputId": "9a864bd0-baee-45d0-d723-fb6de3754c18"
      },
      "execution_count": null,
      "outputs": [
        {
          "output_type": "stream",
          "name": "stdout",
          "text": [
            "100% 600/600 [02:07<00:00,  4.71it/s]\n",
            "100% 2/2 [00:00<00:00,  2.76it/s]\n",
            "FID:  115.65854247847028\n"
          ]
        }
      ]
    },
    {
      "cell_type": "code",
      "source": [],
      "metadata": {
        "id": "S-Ygq8Fnv_J7"
      },
      "execution_count": null,
      "outputs": []
    },
    {
      "cell_type": "code",
      "source": [
        "!python -m pytorch_fid \"/content/celeba_hq_128\" \"/content/ddim_linear_train_results\" --dims 64"
      ],
      "metadata": {
        "id": "U5kg2dD_wCdE",
        "colab": {
          "base_uri": "https://localhost:8080/"
        },
        "outputId": "abb74ec7-f9ca-4a3b-9940-5758aa4d204a"
      },
      "execution_count": null,
      "outputs": [
        {
          "output_type": "stream",
          "name": "stdout",
          "text": [
            "100% 600/600 [00:32<00:00, 18.73it/s]\n",
            "100% 2/2 [00:00<00:00,  7.39it/s]\n",
            "FID:  2.6824535345510663\n"
          ]
        }
      ]
    },
    {
      "cell_type": "code",
      "source": [
        "!python -m pytorch_fid \"/content/celeba_hq_128\" \"/content/ddim_linear_train_results\" --dims 192"
      ],
      "metadata": {
        "id": "8tOI-GudwCRE",
        "colab": {
          "base_uri": "https://localhost:8080/"
        },
        "outputId": "455e2937-8069-431e-f68f-01b44167f501"
      },
      "execution_count": null,
      "outputs": [
        {
          "output_type": "stream",
          "name": "stdout",
          "text": [
            "100% 600/600 [00:42<00:00, 14.05it/s]\n",
            "100% 2/2 [00:00<00:00,  4.71it/s]\n",
            "FID:  12.209983785704054\n"
          ]
        }
      ]
    },
    {
      "cell_type": "code",
      "source": [
        "!python -m pytorch_fid \"/content/celeba_hq_128\" \"/content/ddim_linear_train_results\" --dims 768"
      ],
      "metadata": {
        "id": "qt0zwcVjwBcW",
        "colab": {
          "base_uri": "https://localhost:8080/"
        },
        "outputId": "aea8f9e8-9a07-4a10-9c0a-a0d9b2fe5400"
      },
      "execution_count": null,
      "outputs": [
        {
          "output_type": "stream",
          "name": "stdout",
          "text": [
            "100% 600/600 [01:49<00:00,  5.48it/s]\n",
            "100% 2/2 [00:00<00:00,  3.86it/s]\n",
            "FID:  0.6890195753768035\n"
          ]
        }
      ]
    },
    {
      "cell_type": "code",
      "source": [
        "!python -m pytorch_fid \"/content/celeba_hq_128\" \"/content/ddim_linear_train_results\" --dims 2048"
      ],
      "metadata": {
        "id": "fJ1Gc96nL5gK",
        "colab": {
          "base_uri": "https://localhost:8080/"
        },
        "outputId": "7a43e46a-e796-49e6-f1df-75a14b6ce297"
      },
      "execution_count": null,
      "outputs": [
        {
          "output_type": "stream",
          "name": "stdout",
          "text": [
            "100% 600/600 [02:07<00:00,  4.72it/s]\n",
            "100% 2/2 [00:00<00:00,  2.86it/s]\n",
            "FID:  103.32157319026396\n"
          ]
        }
      ]
    },
    {
      "cell_type": "code",
      "source": [],
      "metadata": {
        "id": "eXsG9eMfwBFU"
      },
      "execution_count": null,
      "outputs": []
    },
    {
      "cell_type": "code",
      "source": [
        "!python -m pytorch_fid \"/content/celeba_hq_128\" \"/content/ddim_cosine_train_results\" --dims 64"
      ],
      "metadata": {
        "id": "FZ24LJhswIFU",
        "colab": {
          "base_uri": "https://localhost:8080/"
        },
        "outputId": "f557063c-25fe-46e2-f22e-84de145caa66"
      },
      "execution_count": null,
      "outputs": [
        {
          "output_type": "stream",
          "name": "stdout",
          "text": [
            "100% 600/600 [00:31<00:00, 19.20it/s]\n",
            "100% 2/2 [00:00<00:00,  8.14it/s]\n",
            "FID:  4.571509651521287\n"
          ]
        }
      ]
    },
    {
      "cell_type": "code",
      "source": [
        "!python -m pytorch_fid \"/content/celeba_hq_128\" \"/content/ddim_cosine_train_results\" --dims 192"
      ],
      "metadata": {
        "id": "2Di4EKkGwBBT",
        "colab": {
          "base_uri": "https://localhost:8080/"
        },
        "outputId": "cf6d9153-b75f-4a5a-dd36-d99f2148a190"
      },
      "execution_count": null,
      "outputs": [
        {
          "output_type": "stream",
          "name": "stdout",
          "text": [
            "100% 600/600 [00:41<00:00, 14.30it/s]\n",
            "100% 2/2 [00:00<00:00,  6.75it/s]\n",
            "FID:  21.5813849121442\n"
          ]
        }
      ]
    },
    {
      "cell_type": "code",
      "source": [
        "!python -m pytorch_fid \"/content/celeba_hq_128\" \"/content/ddim_cosine_train_results\" --dims 768"
      ],
      "metadata": {
        "id": "kD15E5cDwAm8",
        "colab": {
          "base_uri": "https://localhost:8080/"
        },
        "outputId": "b5f6b603-2fbe-4fa0-f545-522e344e80e6"
      },
      "execution_count": null,
      "outputs": [
        {
          "output_type": "stream",
          "name": "stdout",
          "text": [
            "100% 600/600 [01:49<00:00,  5.46it/s]\n",
            "100% 2/2 [00:00<00:00,  3.22it/s]\n",
            "FID:  0.7693524818352244\n"
          ]
        }
      ]
    },
    {
      "cell_type": "code",
      "source": [
        "!python -m pytorch_fid \"/content/celeba_hq_128\" \"/content/ddim_cosine_train_results\" --dims 2048"
      ],
      "metadata": {
        "id": "iKKAu3Y5L5dL",
        "colab": {
          "base_uri": "https://localhost:8080/"
        },
        "outputId": "628d3688-4609-4b87-e2fd-a464de7875db"
      },
      "execution_count": null,
      "outputs": [
        {
          "output_type": "stream",
          "name": "stdout",
          "text": [
            "100% 600/600 [02:07<00:00,  4.72it/s]\n",
            "100% 2/2 [00:00<00:00,  3.13it/s]\n",
            "FID:  113.43320649431834\n"
          ]
        }
      ]
    },
    {
      "cell_type": "code",
      "source": [],
      "metadata": {
        "id": "RjkFkyf1wOPk"
      },
      "execution_count": null,
      "outputs": []
    },
    {
      "cell_type": "code",
      "source": [
        "!python -m pytorch_fid \"/content/celeba_hq_256\" \"/content/ddpm_1000_inference_results\" --dims 64"
      ],
      "metadata": {
        "colab": {
          "base_uri": "https://localhost:8080/"
        },
        "id": "rfl9sehWwOHM",
        "outputId": "60922696-b27a-4a9f-b42f-d8efdff8679d"
      },
      "execution_count": null,
      "outputs": [
        {
          "output_type": "stream",
          "name": "stdout",
          "text": [
            "100% 600/600 [01:10<00:00,  8.46it/s]\n",
            "100% 2/2 [00:00<00:00,  5.19it/s]\n",
            "FID:  3.287010964573664\n"
          ]
        }
      ]
    },
    {
      "cell_type": "code",
      "source": [
        "!python -m pytorch_fid \"/content/celeba_hq_256\" \"/content/ddpm_1000_inference_results\" --dims 192"
      ],
      "metadata": {
        "colab": {
          "base_uri": "https://localhost:8080/"
        },
        "id": "1Udc5VCKwN-s",
        "outputId": "6efb26a7-08b6-46d8-e2dc-58c7eb612c03"
      },
      "execution_count": null,
      "outputs": [
        {
          "output_type": "stream",
          "name": "stdout",
          "text": [
            "100% 600/600 [01:13<00:00,  8.11it/s]\n",
            "100% 2/2 [00:00<00:00,  4.21it/s]\n",
            "FID:  15.593379448889014\n"
          ]
        }
      ]
    },
    {
      "cell_type": "code",
      "source": [
        "!python -m pytorch_fid \"/content/celeba_hq_256\" \"/content/ddpm_1000_inference_results\" --dims 768"
      ],
      "metadata": {
        "colab": {
          "base_uri": "https://localhost:8080/"
        },
        "id": "21DOSpzdwNxE",
        "outputId": "a6123c0a-872c-4ef3-d395-8823d968a2ba"
      },
      "execution_count": null,
      "outputs": [
        {
          "output_type": "stream",
          "name": "stdout",
          "text": [
            "100% 600/600 [01:59<00:00,  5.01it/s]\n",
            "100% 2/2 [00:00<00:00,  2.95it/s]\n",
            "FID:  0.4963295527067848\n"
          ]
        }
      ]
    },
    {
      "cell_type": "code",
      "source": [
        "!python -m pytorch_fid \"/content/celeba_hq_256\" \"/content/ddpm_1000_inference_results\" --dims 2048"
      ],
      "metadata": {
        "colab": {
          "base_uri": "https://localhost:8080/"
        },
        "id": "e7DS8c6MdDJb",
        "outputId": "a2aca97e-6259-4b4d-f7cc-8b5d6beeccff"
      },
      "execution_count": null,
      "outputs": [
        {
          "output_type": "stream",
          "name": "stdout",
          "text": [
            "100% 600/600 [02:15<00:00,  4.42it/s]\n",
            "100% 2/2 [00:00<00:00,  2.65it/s]\n",
            "FID:  77.6951726667451\n"
          ]
        }
      ]
    },
    {
      "cell_type": "code",
      "source": [],
      "metadata": {
        "id": "nh3DPZG6wUCr"
      },
      "execution_count": null,
      "outputs": []
    },
    {
      "cell_type": "code",
      "source": [
        "!python -m pytorch_fid \"/content/celeba_hq_256\" \"/content/ddpm_50_inference_results\" --dims 64"
      ],
      "metadata": {
        "id": "wkMhs-TXwT8k",
        "colab": {
          "base_uri": "https://localhost:8080/"
        },
        "outputId": "a24e7c72-9fa4-4cc1-9b01-7c383726208b"
      },
      "execution_count": null,
      "outputs": [
        {
          "output_type": "stream",
          "name": "stdout",
          "text": [
            "100% 600/600 [01:08<00:00,  8.75it/s]\n",
            "100% 2/2 [00:00<00:00,  4.56it/s]\n",
            "FID:  424.1413996679776\n"
          ]
        }
      ]
    },
    {
      "cell_type": "code",
      "source": [
        "!python -m pytorch_fid \"/content/celeba_hq_256\" \"/content/ddpm_50_inference_results\" --dims 192"
      ],
      "metadata": {
        "id": "Hn4OkqX-wT10",
        "colab": {
          "base_uri": "https://localhost:8080/"
        },
        "outputId": "ecfbd4ec-1e7a-4069-9a7c-3f079cbe2449"
      },
      "execution_count": null,
      "outputs": [
        {
          "output_type": "stream",
          "name": "stdout",
          "text": [
            "100% 600/600 [01:14<00:00,  8.09it/s]\n",
            "100% 2/2 [00:00<00:00,  4.31it/s]\n",
            "FID:  424.83071584199746\n"
          ]
        }
      ]
    },
    {
      "cell_type": "code",
      "source": [
        "!python -m pytorch_fid \"/content/celeba_hq_256\" \"/content/ddpm_50_inference_results\" --dims 768"
      ],
      "metadata": {
        "id": "rlBq2ZL0wTu0",
        "colab": {
          "base_uri": "https://localhost:8080/"
        },
        "outputId": "a38e8de9-5ef0-49f1-fa6b-73fc28cafd88"
      },
      "execution_count": null,
      "outputs": [
        {
          "output_type": "stream",
          "name": "stdout",
          "text": [
            "100% 600/600 [02:03<00:00,  4.86it/s]\n",
            "100% 2/2 [00:00<00:00,  2.89it/s]\n",
            "FID:  3.983176703011475\n"
          ]
        }
      ]
    },
    {
      "cell_type": "code",
      "source": [
        "!python -m pytorch_fid \"/content/celeba_hq_256\" \"/content/ddpm_50_inference_results\" --dims 2048"
      ],
      "metadata": {
        "id": "2xpD62wcdDGp",
        "colab": {
          "base_uri": "https://localhost:8080/"
        },
        "outputId": "c5b48fea-9e2a-48f5-a3cc-bee9bba6f9b6"
      },
      "execution_count": null,
      "outputs": [
        {
          "output_type": "stream",
          "name": "stdout",
          "text": [
            "100% 600/600 [02:18<00:00,  4.34it/s]\n",
            "100% 2/2 [00:00<00:00,  2.57it/s]\n",
            "FID:  459.2114500835761\n"
          ]
        }
      ]
    },
    {
      "cell_type": "code",
      "source": [],
      "metadata": {
        "id": "6GqBUIHrwYvE"
      },
      "execution_count": null,
      "outputs": []
    },
    {
      "cell_type": "code",
      "source": [
        "!python -m pytorch_fid \"/content/celeba_hq_256\" \"/content/ddim_1000_inference_results\" --dims 64"
      ],
      "metadata": {
        "id": "W-zs8dZewZUj",
        "colab": {
          "base_uri": "https://localhost:8080/"
        },
        "outputId": "3b122f80-8197-4ed7-a400-1b3606660929"
      },
      "execution_count": null,
      "outputs": [
        {
          "output_type": "stream",
          "name": "stdout",
          "text": [
            "100% 600/600 [01:10<00:00,  8.48it/s]\n",
            "100% 2/2 [00:00<00:00,  5.01it/s]\n",
            "FID:  4.904124036858844\n"
          ]
        }
      ]
    },
    {
      "cell_type": "code",
      "source": [
        "!python -m pytorch_fid \"/content/celeba_hq_256\" \"/content/ddim_1000_inference_results\" --dims 192"
      ],
      "metadata": {
        "id": "P4guF9sRwYjk",
        "colab": {
          "base_uri": "https://localhost:8080/"
        },
        "outputId": "b93fda4c-45ca-4cd3-8a17-c0b169163b7e"
      },
      "execution_count": null,
      "outputs": [
        {
          "output_type": "stream",
          "name": "stdout",
          "text": [
            "100% 600/600 [01:14<00:00,  8.08it/s]\n",
            "100% 2/2 [00:00<00:00,  3.37it/s]\n",
            "FID:  19.634799359831824\n"
          ]
        }
      ]
    },
    {
      "cell_type": "code",
      "source": [
        "!python -m pytorch_fid \"/content/celeba_hq_256\" \"/content/ddim_1000_inference_results\" --dims 768"
      ],
      "metadata": {
        "id": "451vqmPXwYS8",
        "colab": {
          "base_uri": "https://localhost:8080/"
        },
        "outputId": "65c816d5-2333-4231-e970-288dcf3cd603"
      },
      "execution_count": null,
      "outputs": [
        {
          "output_type": "stream",
          "name": "stdout",
          "text": [
            "100% 600/600 [02:02<00:00,  4.90it/s]\n",
            "100% 2/2 [00:00<00:00,  2.25it/s]\n",
            "FID:  0.6190007497590675\n"
          ]
        }
      ]
    },
    {
      "cell_type": "code",
      "source": [
        "!python -m pytorch_fid \"/content/celeba_hq_256\" \"/content/ddim_1000_inference_results\" --dims 2048"
      ],
      "metadata": {
        "id": "SZZRfXU3k-cq",
        "colab": {
          "base_uri": "https://localhost:8080/"
        },
        "outputId": "5fdc7c7f-30e2-48eb-dc85-7f73bc0b2556"
      },
      "execution_count": null,
      "outputs": [
        {
          "output_type": "stream",
          "name": "stdout",
          "text": [
            "100% 600/600 [02:18<00:00,  4.34it/s]\n",
            "100% 2/2 [00:00<00:00,  2.62it/s]\n",
            "FID:  94.84329515663515\n"
          ]
        }
      ]
    },
    {
      "cell_type": "code",
      "source": [],
      "metadata": {
        "id": "Ae9GZI3Rwogs"
      },
      "execution_count": null,
      "outputs": []
    },
    {
      "cell_type": "code",
      "source": [
        "!python -m pytorch_fid \"/content/celeba_hq_256\" \"/content/ddim_50_inference_results\" --dims 64"
      ],
      "metadata": {
        "id": "aTK4-lmIwoVE",
        "colab": {
          "base_uri": "https://localhost:8080/"
        },
        "outputId": "83d381d9-6c5b-4270-8ef4-b3d623578860"
      },
      "execution_count": null,
      "outputs": [
        {
          "output_type": "stream",
          "name": "stdout",
          "text": [
            "100% 600/600 [01:10<00:00,  8.50it/s]\n",
            "100% 2/2 [00:00<00:00,  4.85it/s]\n",
            "FID:  5.643182136704223\n"
          ]
        }
      ]
    },
    {
      "cell_type": "code",
      "source": [
        "!python -m pytorch_fid \"/content/celeba_hq_256\" \"/content/ddim_50_inference_results\" --dims 192"
      ],
      "metadata": {
        "id": "yAVwoyyywoOM",
        "colab": {
          "base_uri": "https://localhost:8080/"
        },
        "outputId": "db26901c-83fa-41a3-ef5a-717148e3a16c"
      },
      "execution_count": null,
      "outputs": [
        {
          "output_type": "stream",
          "name": "stdout",
          "text": [
            "100% 600/600 [01:14<00:00,  8.05it/s]\n",
            "100% 2/2 [00:00<00:00,  4.51it/s]\n",
            "FID:  27.400930745333593\n"
          ]
        }
      ]
    },
    {
      "cell_type": "code",
      "source": [
        "!python -m pytorch_fid \"/content/celeba_hq_256\" \"/content/ddim_50_inference_results\" --dims 768"
      ],
      "metadata": {
        "id": "NwidFgA0woEM",
        "colab": {
          "base_uri": "https://localhost:8080/"
        },
        "outputId": "18647178-866f-4ca0-e397-93e0e736028c"
      },
      "execution_count": null,
      "outputs": [
        {
          "output_type": "stream",
          "name": "stdout",
          "text": [
            "100% 600/600 [02:02<00:00,  4.89it/s]\n",
            "100% 2/2 [00:00<00:00,  2.96it/s]\n",
            "FID:  0.5357241613254122\n"
          ]
        }
      ]
    },
    {
      "cell_type": "code",
      "source": [
        "!python -m pytorch_fid \"/content/celeba_hq_256\" \"/content/ddim_50_inference_results\" --dims 2048"
      ],
      "metadata": {
        "id": "OlgLklq2k-Za",
        "colab": {
          "base_uri": "https://localhost:8080/"
        },
        "outputId": "676d370b-c17a-47e3-938b-108bd2e4cbc6"
      },
      "execution_count": null,
      "outputs": [
        {
          "output_type": "stream",
          "name": "stdout",
          "text": [
            "100% 600/600 [02:18<00:00,  4.34it/s]\n",
            "100% 2/2 [00:00<00:00,  2.05it/s]\n",
            "FID:  81.00617986926159\n"
          ]
        }
      ]
    },
    {
      "cell_type": "code",
      "source": [],
      "metadata": {
        "id": "g5T8e28Ak-Vr"
      },
      "execution_count": null,
      "outputs": []
    }
  ]
}